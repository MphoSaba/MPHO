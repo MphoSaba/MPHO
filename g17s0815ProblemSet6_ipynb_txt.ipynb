{
  "nbformat": 4,
  "nbformat_minor": 0,
  "metadata": {
    "kernelspec": {
      "display_name": "Python 2",
      "language": "python",
      "name": "python2"
    },
    "language_info": {
      "codemirror_mode": {
        "name": "ipython",
        "version": 2
      },
      "file_extension": ".py",
      "mimetype": "text/x-python",
      "name": "python",
      "nbconvert_exporter": "python",
      "pygments_lexer": "ipython2",
      "version": "2.7.6"
    },
    "colab": {
      "name": "g17s0815ProblemSet6.ipynb.txt",
      "version": "0.3.2",
      "provenance": [],
      "collapsed_sections": [],
      "include_colab_link": true
    }
  },
  "cells": [
    {
      "cell_type": "markdown",
      "metadata": {
        "id": "view-in-github",
        "colab_type": "text"
      },
      "source": [
        "<a href=\"https://colab.research.google.com/github/MphoSaba/MPHO/blob/master/g17s0815ProblemSet6_ipynb_txt.ipynb\" target=\"_parent\"><img src=\"https://colab.research.google.com/assets/colab-badge.svg\" alt=\"Open In Colab\"/></a>"
      ]
    },
    {
      "cell_type": "markdown",
      "metadata": {
        "id": "kIC-fIp-tfwH",
        "colab_type": "text"
      },
      "source": [
        "# Data visualization\n",
        "\n",
        "Matplotlib is a Python 2D plotting library which produces high-quality charts and figures and which helps us visualize large data for better understanding. Pandas is a handy and useful data-structure tool for analyzing large and complex data.\n",
        "\n",
        "For this exercise, we are using Pandas and Matplotlib to visualize the bellow Company Sales Data.\n",
        "\n",
        "<img src=\"data_sale.png\">\n",
        "\n",
        "\n",
        "This exercise contains five questions. The solution provided for each issue. Each question includes a specific Matplotlib topic you need to learn, When you complete each issue you get more familiar with Data data visualization using matplotlib.\n",
        "\n",
        "How to read a .csv file with pandas:\n",
        "$import ~pandas ~as ~pd$  \n",
        "$df ~= ~pd.read\\_csv(\"./company\\_sales\\_data.csv\")$\n",
        "\n",
        "If you want to read a column data and then convert the data to a list or a numpy array. E.g.: Let us read the column data \"total_profit\" and convert to a list and numpy array\n",
        "\n",
        "$profitList ~=~ df ['total\\_profit'].tolist()$ \n",
        "\n",
        "$profitList ~=~ np.array(df ['total\\_profit'])$\n"
      ]
    },
    {
      "cell_type": "markdown",
      "metadata": {
        "id": "dyeA8fijtfwJ",
        "colab_type": "text"
      },
      "source": [
        "### Question 1: Read Total profit of all months and show it using a line plot\n",
        "Total profit data provided for each month. Generated line plot must include the following properties:\n",
        "\n",
        "X label name = Month Number\n",
        "\n",
        "Y label name = Total profit\n",
        "\n",
        "Title label name = Total profit per month\n",
        "\n",
        "The line plot graph should look like this:\n",
        "<img src=\"Q1.png\">"
      ]
    },
    {
      "cell_type": "code",
      "metadata": {
        "id": "six1gM4ptfwL",
        "colab_type": "code",
        "colab": {
          "base_uri": "https://localhost:8080/",
          "height": 34
        },
        "outputId": "09fb7559-9661-4d86-c0f1-9bbc363d87ac"
      },
      "source": [
        "# Answer here\n",
        "import pandas as pd\n",
        "import numpy as np\n",
        "import pylab as pl\n",
        "\n",
        "month_number = np.arange(1,13)\n",
        "print(month_number)\n",
        "\n",
        "total_profit = ([211000,183300,224700,222700,209600,201400,295500,361400,234000,266700,412800])\n"
      ],
      "execution_count": 4,
      "outputs": [
        {
          "output_type": "stream",
          "text": [
            "[ 1  2  3  4  5  6  7  8  9 10 11 12]\n"
          ],
          "name": "stdout"
        }
      ]
    },
    {
      "cell_type": "markdown",
      "metadata": {
        "id": "jc4wYeUxtfwQ",
        "colab_type": "text"
      },
      "source": [
        "### Question 2: Get Total profit of all months and show line plot with the following Style properties\n",
        "Generated line plot must include following Style properties:\n",
        "\n",
        "Line Style dotted and Line-color should be red\n",
        "\n",
        "Show legend at the lower right location.\n",
        "\n",
        "X label name = Month Number\n",
        "\n",
        "Y label name = Sold units number\n",
        "\n",
        "Add a circle marker.\n",
        "\n",
        "Line marker color as read\n",
        "\n",
        "Line width should be 3\n",
        "\n",
        "The line plot graph should look like this:\n",
        "<img src=\"Q2.png\">"
      ]
    },
    {
      "cell_type": "code",
      "metadata": {
        "id": "_exrlY5StfwR",
        "colab_type": "code",
        "colab": {}
      },
      "source": [
        "# Answer here"
      ],
      "execution_count": 0,
      "outputs": []
    },
    {
      "cell_type": "markdown",
      "metadata": {
        "id": "XCmo1wSstfwW",
        "colab_type": "text"
      },
      "source": [
        "### Question 3: Read all product sales data and show it  using a multiline plot\n",
        "\n",
        "Display the number of units sold per month for each product using multiline plots. (i.e., Separate Plotline for each product).\n",
        "\n",
        "The graph should look like this:\n",
        "<img src=\"Q3.png\">"
      ]
    },
    {
      "cell_type": "code",
      "metadata": {
        "id": "MFHVCyFztfwX",
        "colab_type": "code",
        "colab": {}
      },
      "source": [
        "# Answer here"
      ],
      "execution_count": 0,
      "outputs": []
    },
    {
      "cell_type": "markdown",
      "metadata": {
        "id": "k_eETmwBtfwZ",
        "colab_type": "text"
      },
      "source": [
        "### Question 4: Read toothpaste sales data of each month and show it using a scatter plot\n",
        "Also, add a grid in the plot. gridline style should \"–\".\n",
        "\n",
        "The scatter plot should look like this:\n",
        "<img src=\"Q4.png\">"
      ]
    },
    {
      "cell_type": "code",
      "metadata": {
        "id": "L2ZbT_YRtfwa",
        "colab_type": "code",
        "colab": {}
      },
      "source": [
        "# Answer here"
      ],
      "execution_count": 0,
      "outputs": []
    },
    {
      "cell_type": "markdown",
      "metadata": {
        "id": "-fBT1N4atfwc",
        "colab_type": "text"
      },
      "source": [
        "### Question 5: Read face cream and facewash product sales data and show it using the bar chart\n",
        "Bar chart should display the number of units sold per month for each product. Add a separate bar for each product in the same chart.\n",
        "\n",
        "The bar chart should look like this:\n",
        "<img src=\"Q5.png\">"
      ]
    },
    {
      "cell_type": "code",
      "metadata": {
        "id": "Es4ze_Odtfwc",
        "colab_type": "code",
        "colab": {}
      },
      "source": [
        "# Answer here"
      ],
      "execution_count": 0,
      "outputs": []
    },
    {
      "cell_type": "code",
      "metadata": {
        "id": "LDGBfOXUtfwe",
        "colab_type": "code",
        "colab": {}
      },
      "source": [
        ""
      ],
      "execution_count": 0,
      "outputs": []
    }
  ]
}